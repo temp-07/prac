{
 "cells": [
  {
   "cell_type": "code",
   "execution_count": 1,
   "id": "111cc117-76e1-4efc-909c-98d94d361155",
   "metadata": {},
   "outputs": [],
   "source": [
    "import numpy as np\n",
    "import random"
   ]
  },
  {
   "cell_type": "code",
   "execution_count": 2,
   "id": "6461c511-68ca-4764-b172-015a84be951b",
   "metadata": {},
   "outputs": [],
   "source": [
    "# Task a & b: Setting up the Tic-Tac-Toe environment\n",
    "class TicTacToeEnv:\n",
    "    def __init__(self):\n",
    "        self.reset()\n",
    "    \n",
    "    def reset(self):\n",
    "        self.board = np.zeros((3, 3), dtype=int)\n",
    "        self.done = False\n",
    "        self.current_player = 1  # 1 for 'X', -1 for 'O'\n",
    "        return tuple(self.board.flatten())\n",
    "    \n",
    "    def available_actions(self):\n",
    "        return [(i, j) for i in range(3) for j in range(3) if self.board[i, j] == 0]\n",
    "    \n",
    "    def step(self, action):\n",
    "        if self.done:\n",
    "            return tuple(self.board.flatten()), 0, True  # Game is already over\n",
    "        i, j = action\n",
    "        self.board[i, j] = self.current_player\n",
    "        reward = self.check_winner()\n",
    "        self.done = reward != 0 or not self.available_actions()\n",
    "        self.current_player *= -1\n",
    "        return tuple(self.board.flatten()), reward, self.done\n",
    "\n",
    "    def check_winner(self):\n",
    "        for i in range(3):\n",
    "            if abs(sum(self.board[i, :])) == 3 or abs(sum(self.board[:, i])) == 3:\n",
    "                return 1 * self.current_player\n",
    "        if abs(sum(self.board.diagonal())) == 3 or abs(sum(np.fliplr(self.board).diagonal())) == 3:\n",
    "            return 1 * self.current_player\n",
    "        return 0"
   ]
  },
  {
   "cell_type": "code",
   "execution_count": 3,
   "id": "7f44e997-cc49-4f7b-a8e9-64609c42774e",
   "metadata": {},
   "outputs": [],
   "source": [
    "# Task c: Building the Q-learning model\n",
    "Q = {}"
   ]
  },
  {
   "cell_type": "code",
   "execution_count": 4,
   "id": "ab4bae0f-53c9-4448-819f-fd6c6e17c332",
   "metadata": {},
   "outputs": [],
   "source": [
    "def choose_action(state, epsilon=0.1):\n",
    "    if state not in Q:\n",
    "        Q[state] = {a: 0 for a in env.available_actions()}\n",
    "    return random.choice(env.available_actions()) if random.random() < epsilon else max(Q[state], key=Q[state].get)\n",
    "\n",
    "def update_q(state, action, reward, next_state, alpha=0.1, gamma=0.95):\n",
    "    if state not in Q:\n",
    "        Q[state] = {a: 0 for a in env.available_actions()}\n",
    "    if next_state not in Q:\n",
    "        # Set Q[next_state] with a default value of 0 if no available actions\n",
    "        Q[next_state] = {a: 0 for a in env.available_actions()} or {(0, 0): 0} \n",
    "    \n",
    "    # Q-learning update rule with terminal state check\n",
    "    max_future_q = max(Q[next_state].values()) if Q[next_state] else 0\n",
    "    Q[state][action] += alpha * (reward + gamma * max_future_q - Q[state][action])"
   ]
  },
  {
   "cell_type": "code",
   "execution_count": 5,
   "id": "a283126d-58ee-4584-9da9-7bb3b9b61c43",
   "metadata": {},
   "outputs": [],
   "source": [
    "# Task d: Training the model\n",
    "env = TicTacToeEnv()\n",
    "for episode in range(10000):\n",
    "    state = env.reset()\n",
    "    done = False\n",
    "    while not done:\n",
    "        action = choose_action(state)\n",
    "        next_state, reward, done = env.step(action)\n",
    "        update_q(state, action, reward, next_state)\n",
    "        state = next_state"
   ]
  },
  {
   "cell_type": "code",
   "execution_count": 6,
   "id": "4e5cf699-acca-4829-b430-ec51be0f5c5e",
   "metadata": {},
   "outputs": [],
   "source": [
    "# Task e: Testing the model\n",
    "def test_model():\n",
    "    state = env.reset()\n",
    "    done = False\n",
    "    while not done:\n",
    "        action = choose_action(state, epsilon=0)  # Always exploit\n",
    "        next_state, reward, done = env.step(action)\n",
    "        print(np.reshape(next_state, (3, 3)))\n",
    "        state = next_state\n",
    "        if done:\n",
    "            if reward > 0:\n",
    "                print(\"AI won!\")\n",
    "            elif reward < 0:\n",
    "                print(\"AI lost!\")\n",
    "            else:\n",
    "                print(\"It's a draw!\")"
   ]
  },
  {
   "cell_type": "code",
   "execution_count": 7,
   "id": "9aca69cb-b350-4400-a352-9faa18fbbabd",
   "metadata": {},
   "outputs": [
    {
     "name": "stdout",
     "output_type": "stream",
     "text": [
      "[[1 0 0]\n",
      " [0 0 0]\n",
      " [0 0 0]]\n",
      "[[ 1 -1  0]\n",
      " [ 0  0  0]\n",
      " [ 0  0  0]]\n",
      "[[ 1 -1  0]\n",
      " [ 0  0  0]\n",
      " [ 1  0  0]]\n",
      "[[ 1 -1 -1]\n",
      " [ 0  0  0]\n",
      " [ 1  0  0]]\n",
      "[[ 1 -1 -1]\n",
      " [ 1  0  0]\n",
      " [ 1  0  0]]\n",
      "AI won!\n"
     ]
    }
   ],
   "source": [
    "# Run a test\n",
    "test_model()"
   ]
  }
 ],
 "metadata": {
  "kernelspec": {
   "display_name": "Python 3 (ipykernel)",
   "language": "python",
   "name": "python3"
  },
  "language_info": {
   "codemirror_mode": {
    "name": "ipython",
    "version": 3
   },
   "file_extension": ".py",
   "mimetype": "text/x-python",
   "name": "python",
   "nbconvert_exporter": "python",
   "pygments_lexer": "ipython3",
   "version": "3.12.1"
  }
 },
 "nbformat": 4,
 "nbformat_minor": 5
}
